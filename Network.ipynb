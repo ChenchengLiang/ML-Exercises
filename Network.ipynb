{
  "nbformat": 4,
  "nbformat_minor": 0,
  "metadata": {
    "colab": {
      "name": "Network.ipynb",
      "version": "0.3.2",
      "provenance": [],
      "collapsed_sections": [],
      "include_colab_link": true
    },
    "kernelspec": {
      "name": "python3",
      "display_name": "Python 3"
    }
  },
  "cells": [
    {
      "cell_type": "markdown",
      "metadata": {
        "id": "view-in-github",
        "colab_type": "text"
      },
      "source": [
        "[View in Colaboratory](https://colab.research.google.com/github/lcckkkhaha/ML-basic/blob/master/Network.ipynb)"
      ]
    },
    {
      "metadata": {
        "id": "Cx0PwyEQuRII",
        "colab_type": "code",
        "colab": {
          "base_uri": "https://localhost:8080/",
          "height": 493
        },
        "outputId": "9c1ea77c-8ffd-48d9-9ace-b5b845cfd565"
      },
      "cell_type": "code",
      "source": [
        "import numpy as np\n",
        "import random\n",
        "\n",
        "class Network():\n",
        "  def __init__(self,structure):\n",
        "    self.number_of_layers=len(structure)\n",
        "    self.structure=structure\n",
        "    self.biases=[np.random.randn(i,1) for i in structure[1:]]\n",
        "    self.weights=[np.random.randn(i,j) for i,j in [structure[:-1],structure[1:]]]\n",
        "    #self.weights=np.transpose(self.weights)\n",
        "    \n",
        "  def sigmoid(self,X):\n",
        "    X=1/(1+np.exp(X))\n",
        "    return X\n",
        "  \n",
        "  \n",
        "  def feedforward(self,layer_input):\n",
        "    for w,b in [self.weights,self.biases]:\n",
        "      w=np.transpose(w)\n",
        "      print(\"weight:\",w,\"shape:\",w.shape)\n",
        "      print(\"biases:\",b)\n",
        "      print(\"layer_input:\",layer_input,\"shape:\",layer_input.shape)\n",
        "      #print(\"dot:\",np.dot(w,layer_input))\n",
        "      temp =np.dot(w,layer_input) + b\n",
        "      print(\"output:\",temp)\n",
        "      layer_input=self.sigmoid(temp)\n",
        "      print(\"sigmoid:\",layer_input)\n",
        "      #print(layer_input)\n",
        "    return layer_input\n",
        "   \n",
        "    def SGD(self, train_data, epochs, mini_batch_size, eta, test_data):\n",
        "      n=len(train_data)\n",
        "      for i in range(0,epochs):\n",
        "        print(\"Epochs:\",i)\n",
        "        random.shuffle(train_data)\n",
        "        mini_batches=[train_data[k:k+mini_batch-size] for k in range(0,n,mini_batch_size)]\n",
        "        for mini_batch in mini_batches:\n",
        "          self.update_mini_batch(mini_batch,eta)\n",
        "\n",
        "    def update_mini_batch(self,mini_batch,eta):\n",
        "      \n",
        "      \n",
        "                \n",
        "structure=[3,4,1]    \n",
        "net=Network(structure)\n",
        "#print(\"structure:\",net.structure)\n",
        "#print(\"weight:\",net.weights)\n",
        "#print(\"biases:\",net.biases)\n",
        "\n",
        "net.feedforward(np.array([[5],[6],[7]]))\n",
        "\n",
        "#print([structure[:-1],structure[1:]])\n"
      ],
      "execution_count": 4,
      "outputs": [
        {
          "output_type": "stream",
          "text": [
            "weight: [[ 0.45335191  1.75053131  0.91828593]\n",
            " [-0.57862119  1.30531401 -0.34312026]\n",
            " [ 0.13822012  0.43899456 -0.12557966]\n",
            " [-1.26617759  0.53896132 -1.29065438]] shape: (4, 3)\n",
            "biases: [[-0.55546659]\n",
            " [-1.53127129]\n",
            " [ 1.01410753]\n",
            " [-0.70095275]]\n",
            "layer_input: [[5]\n",
            " [6]\n",
            " [7]] shape: (3, 1)\n",
            "output: [[ 18.64248234]\n",
            " [  1.00566495]\n",
            " [  3.46011786]\n",
            " [-12.83265342]]\n",
            "sigmoid: [[8.01074276e-09]\n",
            " [2.67829084e-01]\n",
            " [3.04685515e-02]\n",
            " [9.99997328e-01]]\n",
            "weight: [[ 1.47863568  0.44692892 -0.40882572  0.48342614]] shape: (1, 4)\n",
            "biases: [[-1.12878152]]\n",
            "layer_input: [[8.01074276e-09]\n",
            " [2.67829084e-01]\n",
            " [3.04685515e-02]\n",
            " [9.99997328e-01]] shape: (4, 1)\n",
            "output: [[-0.53811242]]\n",
            "sigmoid: [[0.63137321]]\n"
          ],
          "name": "stdout"
        },
        {
          "output_type": "execute_result",
          "data": {
            "text/plain": [
              "array([[0.63137321]])"
            ]
          },
          "metadata": {
            "tags": []
          },
          "execution_count": 4
        }
      ]
    },
    {
      "metadata": {
        "id": "3teOwq4LwZgX",
        "colab_type": "text"
      },
      "cell_type": "markdown",
      "source": [
        ""
      ]
    }
  ]
}