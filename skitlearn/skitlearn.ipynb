{
  "nbformat": 4,
  "nbformat_minor": 0,
  "metadata": {
    "colab": {
      "name": "skitlearn.ipynb",
      "version": "0.3.2",
      "provenance": [],
      "collapsed_sections": [],
      "toc_visible": true,
      "include_colab_link": true
    },
    "kernelspec": {
      "name": "python3",
      "display_name": "Python 3"
    }
  },
  "cells": [
    {
      "cell_type": "markdown",
      "metadata": {
        "id": "view-in-github",
        "colab_type": "text"
      },
      "source": [
        "[View in Colaboratory](https://colab.research.google.com/github/lcckkkhaha/ML-basic/blob/master/skitlearn.ipynb)"
      ]
    },
    {
      "metadata": {
        "id": "WaHiH-8CCRQ5",
        "colab_type": "code",
        "colab": {
          "base_uri": "https://localhost:8080/",
          "height": 680
        },
        "outputId": "1f758c4b-e4fa-459c-c5e0-9ff345407b34"
      },
      "cell_type": "code",
      "source": [
        "from sklearn import datasets\n",
        "from sklearn.linear_model import LinearRegression\n",
        "from sklearn.linear_model import LogisticRegression\n",
        "from sklearn.linear_model import BayesianRidge\n",
        "from sklearn.model_selection import train_test_split\n",
        "from sklearn.externals import joblib\n",
        "\n",
        "data=datasets.load_boston()\n",
        "data_x=data.data\n",
        "data_y=data.target\n",
        "\n",
        "\n",
        "\n",
        "X_train, X_test, y_train, y_test = train_test_split(data_x, data_y, test_size=0.33, random_state=42)\n",
        "\n",
        "\n",
        "\n",
        "print(\"X_train:\",X_train.shape)\n",
        "print(\"X_test:\",X_test.shape)\n",
        "print(\"y_train:\",y_train.shape)\n",
        "print(\"y_test:\",y_test.shape)\n",
        "model=BayesianRidge(normalize=True)\n",
        "model.fit(X_train,y_train)\n",
        "\n",
        "##model.predict(X_test)\n",
        "\n",
        "print(\"Score:\",model.score(X_test,y_test))\n",
        "model.get_params\n",
        "\n",
        "joblib.dump(model,'xx.pkl')\n",
        "model1=joblib.load('xx.pkl')\n",
        "\n",
        "model1.predict(X_test)"
      ],
      "execution_count": 30,
      "outputs": [
        {
          "output_type": "stream",
          "text": [
            "X_train: (339, 13)\n",
            "X_test: (167, 13)\n",
            "y_train: (339,)\n",
            "y_test: (167,)\n",
            "Score: 0.7234470267294695\n"
          ],
          "name": "stdout"
        },
        {
          "output_type": "execute_result",
          "data": {
            "text/plain": [
              "array([28.36961341, 36.31424239, 16.18887267, 25.44483394, 18.67493525,\n",
              "       23.15976149, 17.46848505, 14.28932103, 22.65037509, 20.66735316,\n",
              "       24.78875714, 18.67158875, -6.07835088, 21.95442159, 19.21751459,\n",
              "       25.81916027, 19.79471927,  5.79237788, 39.91670868, 17.45707558,\n",
              "       27.26421166, 29.83986034, 11.16326634, 23.95696433, 17.89949256,\n",
              "       15.7561283 , 23.275937  , 14.45103118, 22.45100624, 19.47280322,\n",
              "       22.0336691 , 25.08663857, 25.03982295, 18.36406822, 16.37616248,\n",
              "       17.76340518, 30.74140085, 20.14583968, 24.08706382, 24.92198622,\n",
              "       14.20076851, 31.14323482, 41.81000797, 17.96409018, 26.92870075,\n",
              "       17.03501408, 13.93910657, 26.12379831, 20.04681437, 30.12233557,\n",
              "       21.38112985, 33.7257557 , 15.71541889, 26.07194874, 38.82247866,\n",
              "       22.79185729, 18.76645379, 32.57559961, 24.78948331, 13.15184357,\n",
              "       22.59729475, 30.49910632, 31.32177672, 16.51766901, 21.65109341,\n",
              "       16.81617777, 20.12160528, 26.0844807 , 30.79624599, 11.91281724,\n",
              "       20.46917985, 27.13351493, 10.99721359, 17.2893423 , 24.00703749,\n",
              "        5.73749729, 21.43768852, 40.6053056 , 18.08320703, 10.39049658,\n",
              "       21.46443747, 12.76782256, 22.03857253,  9.46352972, 22.92744714,\n",
              "       31.83175321, 18.96092505, 25.52650758, 28.99566704, 20.20588215,\n",
              "       25.51535145,  5.71199013, 20.34276682, 15.77019656, 13.97885333,\n",
              "       20.99919687, 24.4052201 , -0.25604665, 13.6808478 , 15.45869666,\n",
              "       22.06515196, 24.7249698 , 10.76201377, 19.82740205, 23.91018273,\n",
              "       11.92352451, 18.57659214, 25.55754721, 20.94097162, 24.93862285,\n",
              "        7.69058903, 18.72443215, 21.93706084, 26.88574963, 31.68434089,\n",
              "       15.21776196, 33.81426973, 13.16435934, 21.14238292, 28.46616385,\n",
              "       16.01410661, 24.92314003,  4.23231057, 23.97785907, 25.83572121,\n",
              "       23.07478365, 25.50015775, 32.78875946, 21.12496894, 37.82976236,\n",
              "       13.62191069, 25.67989176, 17.86095228, 20.73461391, 10.27013434,\n",
              "       20.74100895, 22.24044693, 31.99456135, 31.42377329, 15.59591228,\n",
              "       16.98347531, 29.07549267, 25.00155502, 16.98763237,  6.63606909,\n",
              "       26.23493823, 23.78028586, 17.30066602, 13.53440493, 39.25352293,\n",
              "       16.50852395, 18.17857894, 25.23316928, 23.8021247 , 22.16261413,\n",
              "       21.44265087, 16.78628854, 23.13036255, 28.86503141,  7.16140281,\n",
              "       23.85408881, 17.28863339, 21.20811595, 25.03790698, 27.37297834,\n",
              "       20.97065166, 40.19425374])"
            ]
          },
          "metadata": {
            "tags": []
          },
          "execution_count": 30
        }
      ]
    }
  ]
}
